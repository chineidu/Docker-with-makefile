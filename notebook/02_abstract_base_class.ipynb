{
 "cells": [
  {
   "attachments": {},
   "cell_type": "markdown",
   "metadata": {},
   "source": [
    "## Abstract Base Class (ABC)\n",
    "\n",
    "* An **`abstract base class`** is a class that is used as a `blueprint` for other classes. Abstract base classes are a powerful feature in Python since they help you define a blueprint for other classes that may have something in common. [source](https://www.educative.io/answers/what-is-the-abstract-base-class-in-python)\n",
    "\n",
    "* `ABC`s can **NOT** be instantiated. They can only be used as a `template/blueprint` by other classes."
   ]
  },
  {
   "cell_type": "code",
   "execution_count": 1,
   "metadata": {},
   "outputs": [],
   "source": [
    "import numpy as np\n",
    "import pandas as pd\n",
    "\n",
    "\n",
    "%load_ext lab_black"
   ]
  },
  {
   "cell_type": "code",
   "execution_count": 2,
   "metadata": {},
   "outputs": [],
   "source": [
    "from abc import ABC, abstractmethod\n",
    "from typing import Union, Optional"
   ]
  },
  {
   "cell_type": "code",
   "execution_count": 3,
   "metadata": {},
   "outputs": [],
   "source": [
    "class Model(ABC):\n",
    "    \"\"\"This is an abstract class for defining an ML model/algorithm.\"\"\"\n",
    "\n",
    "    @abstractmethod\n",
    "    def __repr__(self) -> None:\n",
    "        \"\"\"This is used for printing the model signature.\"\"\"\n",
    "        pass\n",
    "\n",
    "    @abstractmethod\n",
    "    def fit(self, X: np.ndarray, y=np.ndarray) -> None:\n",
    "        \"\"\"This is used for training the model.\"\"\"\n",
    "        pass\n",
    "\n",
    "    @abstractmethod\n",
    "    def predict(self, X: np.ndarray) -> None:\n",
    "        \"\"\"This is used for making predictions using\n",
    "        the trained model.\"\"\"\n",
    "        pass"
   ]
  },
  {
   "cell_type": "code",
   "execution_count": 4,
   "metadata": {},
   "outputs": [],
   "source": [
    "class LinearRegression(Model):\n",
    "    \"\"\"This is used to model a linear regression algorithm.\"\"\"\n",
    "\n",
    "    def __init__(self, n_iters: int = 5_000, learning_rate: float = 0.001) -> None:\n",
    "        self.n_iters = n_iters\n",
    "        self.learning_rate = learning_rate\n",
    "        self.weight = None\n",
    "        self.bias = None"
   ]
  },
  {
   "attachments": {},
   "cell_type": "markdown",
   "metadata": {},
   "source": [
    "### Comment\n",
    "\n",
    "* If the methods `__repr__`, `fit` and `predict` are not implemented, it returns a `TypeError`."
   ]
  },
  {
   "cell_type": "code",
   "execution_count": 5,
   "metadata": {},
   "outputs": [
    {
     "ename": "TypeError",
     "evalue": "Can't instantiate abstract class LinearRegression with abstract methods __repr__, fit, predict",
     "output_type": "error",
     "traceback": [
      "\u001b[0;31m---------------------------------------------------------------------------\u001b[0m",
      "\u001b[0;31mTypeError\u001b[0m                                 Traceback (most recent call last)",
      "Cell \u001b[0;32mIn[5], line 1\u001b[0m\n\u001b[0;32m----> 1\u001b[0m lr \u001b[39m=\u001b[39m LinearRegression()\n",
      "\u001b[0;31mTypeError\u001b[0m: Can't instantiate abstract class LinearRegression with abstract methods __repr__, fit, predict"
     ]
    }
   ],
   "source": [
    "lr = LinearRegression()"
   ]
  },
  {
   "cell_type": "code",
   "execution_count": 6,
   "metadata": {},
   "outputs": [],
   "source": [
    "class LinearRegression(Model):\n",
    "    \"\"\"This is used to model a linear regression algorithm.\"\"\"\n",
    "\n",
    "    def __init__(self, n_iters: int = 5_000, learning_rate: float = 0.001) -> None:\n",
    "        self.n_iters = n_iters\n",
    "        self.learning_rate = learning_rate\n",
    "        self.weight = None\n",
    "        self.bias = None\n",
    "\n",
    "    def __repr__(self) -> str:\n",
    "        _repr = (\n",
    "            f\"{__class__.__name__}(n_iters={self.n_iters}, \"\n",
    "            f\"learning_rate={self.learning_rate})\"\n",
    "        )\n",
    "        return _repr\n",
    "\n",
    "    def fit(self, X: np.ndarray, y=np.ndarray) -> None:\n",
    "        # Initialize the weight and bias with zero\n",
    "        n_samples, n_features = X.shape\n",
    "        self.weight = np.zeros(n_features)  # Vector\n",
    "        self.bias = 0  # Scalar\n",
    "\n",
    "        for _ in range(self.n_iters):\n",
    "            # Estimate y. i.e y_hat\n",
    "            # Shape of X: (n_samples, n_features), Shape of weight: (n_features, 1)\n",
    "            y_pred = np.dot(X, self.weight) + self.bias\n",
    "\n",
    "            # Using gradient descent, calculate change in weight\n",
    "            # and bias for each training sample.\n",
    "            # Shape of X: (1, n_features), Shape of weight: (1, 1)\n",
    "            # Transpose X so that you have: Shape of X.T: (n_features, 1)\n",
    "            dw = (1 / n_samples) * 2 * (np.dot(X.T, (y_pred - y)))\n",
    "            db = 2 * np.mean((y_pred - y))\n",
    "\n",
    "            # Update the parameters\n",
    "            self.weight -= self.learning_rate * dw\n",
    "            self.bias -= self.learning_rate * db\n",
    "\n",
    "        return self\n",
    "\n",
    "    def predict(self, X: np.ndarray) -> float:\n",
    "        y_pred = np.dot(X, self.weight) + self.bias\n",
    "        return y_pred\n",
    "\n",
    "    @staticmethod\n",
    "    def calculate_mean_squared_error(y_true: np.ndarray, y_pred: np.ndarray) -> float:\n",
    "        \"\"\"This is used to calculate the Mean Squared Error.\"\"\"\n",
    "        mse = np.mean(np.square(y_true - y_pred))\n",
    "        return round(mse, 2)"
   ]
  },
  {
   "attachments": {},
   "cell_type": "markdown",
   "metadata": {},
   "source": [
    "### Generate Mock Data"
   ]
  },
  {
   "cell_type": "code",
   "execution_count": 7,
   "metadata": {},
   "outputs": [],
   "source": [
    "from sklearn.datasets import make_regression\n",
    "from sklearn.model_selection import train_test_split\n",
    "\n",
    "RANDOM_STATE = 123\n",
    "TEST_SIZE = 0.1\n",
    "N_SAMPLES = 2_000\n",
    "N_FEATURES = 1\n",
    "NOISE = 10\n",
    "\n",
    "data = make_regression(\n",
    "    n_samples=N_SAMPLES, n_features=N_FEATURES, noise=NOISE, random_state=RANDOM_STATE\n",
    ")\n",
    "X, y = data\n",
    "\n",
    "# split the data\n",
    "X_train, X_test, y_train, y_test = train_test_split(\n",
    "    X, y, test_size=TEST_SIZE, random_state=RANDOM_STATE\n",
    ")"
   ]
  },
  {
   "cell_type": "code",
   "execution_count": 8,
   "metadata": {},
   "outputs": [
    {
     "data": {
      "text/plain": [
       "LinearRegression(n_iters=5000, learning_rate=0.0001)"
      ]
     },
     "execution_count": 8,
     "metadata": {},
     "output_type": "execute_result"
    }
   ],
   "source": [
    "lr = LinearRegression(n_iters=5_000, learning_rate=0.0001)\n",
    "lr.fit(X_train, y_train)"
   ]
  },
  {
   "cell_type": "code",
   "execution_count": 9,
   "metadata": {},
   "outputs": [
    {
     "data": {
      "text/plain": [
       "313.75"
      ]
     },
     "execution_count": 9,
     "metadata": {},
     "output_type": "execute_result"
    }
   ],
   "source": [
    "y_pred = lr.predict(X=X_test)\n",
    "\n",
    "lr.calculate_mean_squared_error(y_true=y_test, y_pred=y_pred)"
   ]
  },
  {
   "cell_type": "code",
   "execution_count": 10,
   "metadata": {},
   "outputs": [
    {
     "data": {
      "text/plain": [
       "98.54"
      ]
     },
     "execution_count": 10,
     "metadata": {},
     "output_type": "execute_result"
    }
   ],
   "source": [
    "# Train another model (Use a larger learning rate)\n",
    "lr = LinearRegression(n_iters=5_000, learning_rate=0.01)\n",
    "lr.fit(X_train, y_train)\n",
    "y_pred = lr.predict(X=X_test)\n",
    "\n",
    "lr.calculate_mean_squared_error(y_true=y_test, y_pred=y_pred)"
   ]
  },
  {
   "cell_type": "code",
   "execution_count": null,
   "metadata": {},
   "outputs": [],
   "source": []
  }
 ],
 "metadata": {
  "kernelspec": {
   "display_name": "ds",
   "language": "python",
   "name": "python3"
  },
  "language_info": {
   "codemirror_mode": {
    "name": "ipython",
    "version": 3
   },
   "file_extension": ".py",
   "mimetype": "text/x-python",
   "name": "python",
   "nbconvert_exporter": "python",
   "pygments_lexer": "ipython3",
   "version": "3.9.0"
  },
  "orig_nbformat": 4,
  "vscode": {
   "interpreter": {
    "hash": "ee85a8c565f0f8759c7967b8f49958a69a05efec3a3965c7debede210912a7da"
   }
  }
 },
 "nbformat": 4,
 "nbformat_minor": 2
}
