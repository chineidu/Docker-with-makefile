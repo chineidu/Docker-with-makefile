{
 "cells": [
  {
   "cell_type": "markdown",
   "metadata": {},
   "source": [
    "# Mock Tests"
   ]
  },
  {
   "cell_type": "code",
   "execution_count": 1,
   "metadata": {},
   "outputs": [],
   "source": [
    "import numpy as np\n",
    "import pandas as pd\n",
    "import pytest\n",
    "\n",
    "from unittest.mock import Mock\n",
    "\n",
    "\n",
    "%load_ext lab_black"
   ]
  },
  {
   "cell_type": "code",
   "execution_count": 2,
   "metadata": {},
   "outputs": [],
   "source": [
    "# Create a function that has dependencies.\n",
    "# This function depends on the random module from numpy\n",
    "def roll_dice() -> int:\n",
    "    \"\"\"This returns an integer between 1 and 6 (inclusive).\"\"\"\n",
    "    number = np.random.choice(a=np.arange(1, 7), size=1)[0]\n",
    "    return number"
   ]
  },
  {
   "cell_type": "code",
   "execution_count": 3,
   "metadata": {},
   "outputs": [
    {
     "data": {
      "text/plain": [
       "4"
      ]
     },
     "execution_count": 3,
     "metadata": {},
     "output_type": "execute_result"
    }
   ],
   "source": [
    "roll_dice()"
   ]
  },
  {
   "cell_type": "code",
   "execution_count": 16,
   "metadata": {},
   "outputs": [],
   "source": [
    "mock_roll_dice = Mock(name=\"roll_dice\", return_value=4)\n",
    "\n",
    "roll_dice = mock_roll_dice"
   ]
  },
  {
   "cell_type": "code",
   "execution_count": 23,
   "metadata": {},
   "outputs": [],
   "source": [
    "def test_roll_dice() -> None:\n",
    "    \"\"\"This tests the roll dice function.\"\"\"\n",
    "    # Given\n",
    "    expected_result = 4\n",
    "\n",
    "    # When\n",
    "    result = mock_roll_dice()\n",
    "\n",
    "    # Then\n",
    "    assert expected_result == result\n",
    "    mock_roll_dice.assert_called()"
   ]
  },
  {
   "cell_type": "code",
   "execution_count": 24,
   "metadata": {},
   "outputs": [],
   "source": [
    "test_roll_dice()"
   ]
  },
  {
   "cell_type": "code",
   "execution_count": 22,
   "metadata": {},
   "outputs": [],
   "source": [
    "mock_roll_dice.assert_called()"
   ]
  },
  {
   "cell_type": "code",
   "execution_count": null,
   "metadata": {},
   "outputs": [],
   "source": []
  },
  {
   "cell_type": "code",
   "execution_count": null,
   "metadata": {},
   "outputs": [],
   "source": []
  }
 ],
 "metadata": {
  "kernelspec": {
   "display_name": "ds",
   "language": "python",
   "name": "python3"
  },
  "language_info": {
   "codemirror_mode": {
    "name": "ipython",
    "version": 3
   },
   "file_extension": ".py",
   "mimetype": "text/x-python",
   "name": "python",
   "nbconvert_exporter": "python",
   "pygments_lexer": "ipython3",
   "version": "3.9.0"
  },
  "orig_nbformat": 4,
  "vscode": {
   "interpreter": {
    "hash": "ee85a8c565f0f8759c7967b8f49958a69a05efec3a3965c7debede210912a7da"
   }
  }
 },
 "nbformat": 4,
 "nbformat_minor": 2
}
