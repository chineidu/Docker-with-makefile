{
 "cells": [
  {
   "cell_type": "markdown",
   "metadata": {},
   "source": [
    "# Mock Tests"
   ]
  },
  {
   "cell_type": "code",
   "execution_count": 1,
   "metadata": {},
   "outputs": [],
   "source": [
    "import numpy as np\n",
    "import pandas as pd\n",
    "import pytest\n",
    "\n",
    "from unittest.mock import Mock\n",
    "\n",
    "\n",
    "%load_ext lab_black"
   ]
  },
  {
   "cell_type": "markdown",
   "metadata": {},
   "source": []
  },
  {
   "cell_type": "code",
   "execution_count": 2,
   "metadata": {},
   "outputs": [],
   "source": [
    "# Create a function that has dependencies.\n",
    "# This function depends on the random module from numpy\n",
    "def roll_dice() -> int:\n",
    "    \"\"\"This returns an integer between 1 and 6 (inclusive).\"\"\"\n",
    "    number = np.random.choice(a=np.arange(1, 7), size=1)[0]\n",
    "    return number"
   ]
  },
  {
   "cell_type": "code",
   "execution_count": 3,
   "metadata": {},
   "outputs": [
    {
     "data": {
      "text/plain": [
       "4"
      ]
     },
     "execution_count": 3,
     "metadata": {},
     "output_type": "execute_result"
    }
   ],
   "source": [
    "roll_dice()"
   ]
  },
  {
   "cell_type": "code",
   "execution_count": 16,
   "metadata": {},
   "outputs": [],
   "source": [
    "mock_roll_dice = Mock(name=\"roll_dice\", return_value=4)\n",
    "\n",
    "roll_dice = mock_roll_dice"
   ]
  },
  {
   "cell_type": "code",
   "execution_count": 23,
   "metadata": {},
   "outputs": [],
   "source": [
    "def test_roll_die() -> None:\n",
    "    \"\"\"This tests the roll dice function.\"\"\"\n",
    "    # Given\n",
    "    expected_result = 4\n",
    "\n",
    "    # When\n",
    "    result = mock_roll_dice()\n",
    "\n",
    "    # Then\n",
    "    assert expected_result == result\n",
    "    mock_roll_dice.assert_called()"
   ]
  },
  {
   "cell_type": "code",
   "execution_count": 24,
   "metadata": {},
   "outputs": [],
   "source": [
    "test_roll_die()"
   ]
  },
  {
   "cell_type": "code",
   "execution_count": 22,
   "metadata": {},
   "outputs": [],
   "source": [
    "mock_roll_dice.assert_called()"
   ]
  },
  {
   "cell_type": "code",
   "execution_count": null,
   "metadata": {},
   "outputs": [],
   "source": [
    "mock_roll_dice.assert_called_with"
   ]
  },
  {
   "cell_type": "code",
   "execution_count": 101,
   "metadata": {},
   "outputs": [],
   "source": [
    "import requests\n",
    "\n",
    "url = \"\thttps://dummy.restapiexample.com/api/v1/employees\"\n",
    "\n",
    "response = requests.get(url)\n",
    "\n",
    "\n",
    "def get_employees_data() -> dict:\n",
    "    \"\"\"This returns a dict containing employees info.\"\"\"\n",
    "    url = \"https://dummy.restapiexample.com/api/v1/employees\"\n",
    "    response = requests.get(url)\n",
    "    return response"
   ]
  },
  {
   "cell_type": "code",
   "execution_count": 102,
   "metadata": {},
   "outputs": [],
   "source": [
    "# response.json()\n",
    "\n",
    "response_data = {\n",
    "    \"status\": \"success\",\n",
    "    \"data\": [\n",
    "        {\n",
    "            \"id\": 1,\n",
    "            \"employee_name\": \"Tiger Nixon\",\n",
    "            \"employee_salary\": 320800,\n",
    "            \"employee_age\": 61,\n",
    "            \"profile_image\": \"\",\n",
    "        },\n",
    "        {\n",
    "            \"id\": 2,\n",
    "            \"employee_name\": \"Garrett Winters\",\n",
    "            \"employee_salary\": 170750,\n",
    "            \"employee_age\": 63,\n",
    "            \"profile_image\": \"\",\n",
    "        },\n",
    "    ],\n",
    "}"
   ]
  },
  {
   "cell_type": "code",
   "execution_count": 103,
   "metadata": {},
   "outputs": [
    {
     "data": {
      "text/plain": [
       "<Mock name='mock response.name' id='140368817909136'>"
      ]
     },
     "execution_count": 103,
     "metadata": {},
     "output_type": "execute_result"
    }
   ],
   "source": [
    "resp = {\"status_code\": 200, \"json.return_value\": response_data}\n",
    "\n",
    "# Add kwargs\n",
    "mock_response = Mock(name=\"mock response\", **resp)\n",
    "mock_response.name"
   ]
  },
  {
   "cell_type": "code",
   "execution_count": 104,
   "metadata": {},
   "outputs": [
    {
     "data": {
      "text/plain": [
       "(200,\n",
       " {'status': 'success',\n",
       "  'data': [{'id': 1,\n",
       "    'employee_name': 'Tiger Nixon',\n",
       "    'employee_salary': 320800,\n",
       "    'employee_age': 61,\n",
       "    'profile_image': ''},\n",
       "   {'id': 2,\n",
       "    'employee_name': 'Garrett Winters',\n",
       "    'employee_salary': 170750,\n",
       "    'employee_age': 63,\n",
       "    'profile_image': ''}]})"
      ]
     },
     "execution_count": 104,
     "metadata": {},
     "output_type": "execute_result"
    }
   ],
   "source": [
    "mock_response.status_code, mock_response.json.return_value"
   ]
  },
  {
   "cell_type": "code",
   "execution_count": 105,
   "metadata": {},
   "outputs": [
    {
     "data": {
      "text/plain": [
       "<Mock name='mock response' id='140368817908944'>"
      ]
     },
     "execution_count": 105,
     "metadata": {},
     "output_type": "execute_result"
    }
   ],
   "source": [
    "# Mock \"requests.get\"\n",
    "mock_requests_get = Mock(name=\"mock_get_employees_data\", return_value=mock_response)\n",
    "requests.get = mock_requests_get\n",
    "\n",
    "requests.get()"
   ]
  },
  {
   "cell_type": "code",
   "execution_count": 106,
   "metadata": {},
   "outputs": [],
   "source": [
    "def test_get_employees_data() -> None:\n",
    "    \"\"\"This tests the get_employees_data function.\"\"\"\n",
    "    # Given\n",
    "    status_code = 200\n",
    "    status = \"success\"\n",
    "    data_size = 2\n",
    "\n",
    "    # When\n",
    "    result = get_employees_data()\n",
    "\n",
    "    # Then\n",
    "    assert result.json() == response_data\n",
    "    assert result.status_code == 200\n",
    "    assert result.json()[\"status\"] == status\n",
    "    assert len(result.json()[\"data\"]) == data_size"
   ]
  },
  {
   "cell_type": "code",
   "execution_count": 107,
   "metadata": {},
   "outputs": [],
   "source": [
    "test_get_employees_data()"
   ]
  },
  {
   "cell_type": "code",
   "execution_count": 108,
   "metadata": {},
   "outputs": [],
   "source": [
    "url = \"https://dummy.restapiexample.com/api/v1/employees\"\n",
    "mock_requests_get.assert_called_with(url)"
   ]
  },
  {
   "cell_type": "code",
   "execution_count": null,
   "metadata": {},
   "outputs": [],
   "source": []
  },
  {
   "cell_type": "code",
   "execution_count": null,
   "metadata": {},
   "outputs": [],
   "source": []
  }
 ],
 "metadata": {
  "kernelspec": {
   "display_name": "ds",
   "language": "python",
   "name": "python3"
  },
  "language_info": {
   "codemirror_mode": {
    "name": "ipython",
    "version": 3
   },
   "file_extension": ".py",
   "mimetype": "text/x-python",
   "name": "python",
   "nbconvert_exporter": "python",
   "pygments_lexer": "ipython3",
   "version": "3.9.0"
  },
  "orig_nbformat": 4,
  "vscode": {
   "interpreter": {
    "hash": "ee85a8c565f0f8759c7967b8f49958a69a05efec3a3965c7debede210912a7da"
   }
  }
 },
 "nbformat": 4,
 "nbformat_minor": 2
}
