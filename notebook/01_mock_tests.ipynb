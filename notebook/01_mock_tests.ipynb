{
 "cells": [
  {
   "cell_type": "markdown",
   "metadata": {},
   "source": [
    "# Mock Tests"
   ]
  },
  {
   "cell_type": "code",
   "execution_count": 1,
   "metadata": {},
   "outputs": [],
   "source": [
    "import numpy as np\n",
    "import pandas as pd\n",
    "import pytest\n",
    "\n",
    "from unittest.mock import Mock\n",
    "\n",
    "\n",
    "%load_ext lab_black"
   ]
  },
  {
   "cell_type": "markdown",
   "metadata": {},
   "source": []
  },
  {
   "cell_type": "code",
   "execution_count": 2,
   "metadata": {},
   "outputs": [],
   "source": [
    "# Create a function that has dependencies.\n",
    "# This function depends on the random module from numpy\n",
    "def roll_dice() -> int:\n",
    "    \"\"\"This returns an integer between 1 and 6 (inclusive).\"\"\"\n",
    "    number = np.random.choice(a=np.arange(1, 7), size=1)[0]\n",
    "    return number"
   ]
  },
  {
   "cell_type": "code",
   "execution_count": 3,
   "metadata": {},
   "outputs": [
    {
     "data": {
      "text/plain": [
       "4"
      ]
     },
     "execution_count": 3,
     "metadata": {},
     "output_type": "execute_result"
    }
   ],
   "source": [
    "roll_dice()"
   ]
  },
  {
   "cell_type": "code",
   "execution_count": 16,
   "metadata": {},
   "outputs": [],
   "source": [
    "mock_roll_dice = Mock(name=\"roll_dice\", return_value=4)\n",
    "\n",
    "roll_dice = mock_roll_dice"
   ]
  },
  {
   "cell_type": "code",
   "execution_count": 23,
   "metadata": {},
   "outputs": [],
   "source": [
    "def test_roll_die() -> None:\n",
    "    \"\"\"This tests the roll dice function.\"\"\"\n",
    "    # Given\n",
    "    expected_result = 4\n",
    "\n",
    "    # When\n",
    "    result = mock_roll_dice()\n",
    "\n",
    "    # Then\n",
    "    assert expected_result == result\n",
    "    mock_roll_dice.assert_called()"
   ]
  },
  {
   "cell_type": "code",
   "execution_count": 24,
   "metadata": {},
   "outputs": [],
   "source": [
    "test_roll_die()"
   ]
  },
  {
   "cell_type": "code",
   "execution_count": 22,
   "metadata": {},
   "outputs": [],
   "source": [
    "mock_roll_dice.assert_called()"
   ]
  },
  {
   "cell_type": "code",
   "execution_count": null,
   "metadata": {},
   "outputs": [],
   "source": [
    "mock_roll_dice.assert_called_with"
   ]
  },
  {
   "cell_type": "code",
   "execution_count": 48,
   "metadata": {},
   "outputs": [],
   "source": [
    "import requests\n",
    "\n",
    "url = \"\thttps://dummy.restapiexample.com/api/v1/employees\"\n",
    "\n",
    "response = requests.get(url)\n",
    "\n",
    "\n",
    "def get_employees_data() -> dict:\n",
    "    \"\"\"This returns a dict containing employees info.\"\"\"\n",
    "    url = \"\thttps://dummy.restapiexample.com/api/v1/employees\"\n",
    "    response = requests.get(url)\n",
    "    return response"
   ]
  },
  {
   "cell_type": "code",
   "execution_count": 54,
   "metadata": {},
   "outputs": [],
   "source": [
    "# response.json()\n",
    "\n",
    "response_data = {\n",
    "    \"status\": \"success\",\n",
    "    \"data\": [\n",
    "        {\n",
    "            \"id\": 1,\n",
    "            \"employee_name\": \"Tiger Nixon\",\n",
    "            \"employee_salary\": 320800,\n",
    "            \"employee_age\": 61,\n",
    "            \"profile_image\": \"\",\n",
    "        },\n",
    "        {\n",
    "            \"id\": 2,\n",
    "            \"employee_name\": \"Garrett Winters\",\n",
    "            \"employee_salary\": 170750,\n",
    "            \"employee_age\": 63,\n",
    "            \"profile_image\": \"\",\n",
    "        },\n",
    "    ],\n",
    "}"
   ]
  },
  {
   "cell_type": "code",
   "execution_count": 55,
   "metadata": {},
   "outputs": [],
   "source": [
    "mock_get_employees_data = Mock(name=\"get_employees_data\")\n",
    "mock_get_employees_data.json.return_value = response_data\n",
    "mock_get_employees_data.status_code = 200"
   ]
  },
  {
   "cell_type": "code",
   "execution_count": 63,
   "metadata": {},
   "outputs": [],
   "source": [
    "def test_get_employees_data() -> None:\n",
    "    \"\"\"This tests the get_employees_data function.\"\"\"\n",
    "    # Given\n",
    "    status_code = 200\n",
    "    status = \"success\"\n",
    "    data_size = 2\n",
    "\n",
    "    # When\n",
    "    result = mock_get_employees_data()\n",
    "\n",
    "    # Then\n",
    "    assert mock_get_employees_data.json() == response_data\n",
    "    assert mock_get_employees_data.status_code == 200\n",
    "    assert mock_get_employees_data.json()[\"status\"] == status\n",
    "    assert len(mock_get_employees_data.json()[\"data\"]) == data_size"
   ]
  },
  {
   "cell_type": "code",
   "execution_count": 64,
   "metadata": {},
   "outputs": [],
   "source": [
    "test_get_employees_data()"
   ]
  },
  {
   "cell_type": "code",
   "execution_count": null,
   "metadata": {},
   "outputs": [],
   "source": []
  },
  {
   "cell_type": "code",
   "execution_count": null,
   "metadata": {},
   "outputs": [],
   "source": []
  },
  {
   "cell_type": "code",
   "execution_count": null,
   "metadata": {},
   "outputs": [],
   "source": []
  }
 ],
 "metadata": {
  "kernelspec": {
   "display_name": "ds",
   "language": "python",
   "name": "python3"
  },
  "language_info": {
   "codemirror_mode": {
    "name": "ipython",
    "version": 3
   },
   "file_extension": ".py",
   "mimetype": "text/x-python",
   "name": "python",
   "nbconvert_exporter": "python",
   "pygments_lexer": "ipython3",
   "version": "3.9.0"
  },
  "orig_nbformat": 4,
  "vscode": {
   "interpreter": {
    "hash": "ee85a8c565f0f8759c7967b8f49958a69a05efec3a3965c7debede210912a7da"
   }
  }
 },
 "nbformat": 4,
 "nbformat_minor": 2
}
